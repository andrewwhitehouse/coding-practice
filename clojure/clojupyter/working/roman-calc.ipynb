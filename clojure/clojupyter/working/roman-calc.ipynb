{
 "cells": [
  {
   "cell_type": "markdown",
   "metadata": {},
   "source": [
    "# Roman Numeral kata"
   ]
  },
  {
   "cell_type": "markdown",
   "metadata": {},
   "source": [
    "**Challenge**: add Roman numerals without converting to Arabic numbers"
   ]
  },
  {
   "cell_type": "markdown",
   "metadata": {},
   "source": [
    "Let's do it TDD-style ..."
   ]
  },
  {
   "cell_type": "code",
   "execution_count": 2,
   "metadata": {},
   "outputs": [
    {
     "data": {
      "text/plain": [
       "#namespace[user]"
      ]
     },
     "execution_count": 2,
     "metadata": {},
     "output_type": "execute_result"
    }
   ],
   "source": [
    "*ns*"
   ]
  },
  {
   "cell_type": "code",
   "execution_count": 3,
   "metadata": {},
   "outputs": [
    {
     "data": {
      "text/plain": [
       "nil"
      ]
     },
     "execution_count": 3,
     "metadata": {},
     "output_type": "execute_result"
    }
   ],
   "source": [
    "(use 'clojure.test 'clojure.repl)"
   ]
  },
  {
   "cell_type": "code",
   "execution_count": 4,
   "metadata": {},
   "outputs": [
    {
     "name": "stdout",
     "output_type": "stream",
     "text": [
      "-------------------------\n",
      "clojure.core/declare\n",
      "([& names])\n",
      "Macro\n",
      "  defs the supplied var names with no bindings, useful for making forward declarations.\n"
     ]
    },
    {
     "data": {
      "text/plain": [
       "#'user/roman-add"
      ]
     },
     "execution_count": 4,
     "metadata": {},
     "output_type": "execute_result"
    }
   ],
   "source": [
    "(doc declare)\n",
    "(declare roman-add)"
   ]
  },
  {
   "cell_type": "code",
   "execution_count": 7,
   "metadata": {},
   "outputs": [
    {
     "data": {
      "text/plain": [
       "#'user/simple-addition"
      ]
     },
     "execution_count": 7,
     "metadata": {},
     "output_type": "execute_result"
    }
   ],
   "source": [
    "(deftest simple-addition\n",
    "         (is (= \"ii\" (roman-add \"i\" \"i\"))))"
   ]
  },
  {
   "cell_type": "code",
   "execution_count": 6,
   "metadata": {},
   "outputs": [
    {
     "name": "stdout",
     "output_type": "stream",
     "text": [
      "\n",
      "Testing user\n",
      "\n",
      "ERROR in (simple-addition) (Var.java:45)\n",
      "expected: (= \"ii\" (roman-add \"i\" \"i\"))\n",
      "  actual: java.lang.IllegalStateException: Attempting to call unbound fn: #'user/roman-add\n",
      " at clojure.lang.Var$Unbound.throwArity (Var.java:45)\n",
      "    clojure.lang.AFn.invoke (AFn.java:36)\n",
      "    user$fn__4101.invokeStatic (NO_SOURCE_FILE:2)\n",
      "    user/fn (NO_SOURCE_FILE:1)\n",
      "    clojure.test$test_var$fn__9737.invoke (test.clj:717)\n",
      "    clojure.test$test_var.invokeStatic (test.clj:717)\n",
      "    clojure.test$test_var.invoke (test.clj:708)\n",
      "    clojure.test$test_vars$fn__9763$fn__9768.invoke (test.clj:735)\n",
      "    clojure.test$default_fixture.invokeStatic (test.clj:687)\n",
      "    clojure.test$default_fixture.invoke (test.clj:683)\n",
      "    clojure.test$test_vars$fn__9763.invoke (test.clj:735)\n",
      "    clojure.test$default_fixture.invokeStatic (test.clj:687)\n",
      "    clojure.test$default_fixture.invoke (test.clj:683)\n",
      "    clojure.test$test_vars.invokeStatic (test.clj:731)\n",
      "    clojure.test$test_all_vars.invokeStatic (test.clj:737)\n",
      "    clojure.test$test_ns.invokeStatic (test.clj:758)\n",
      "    clojure.test$test_ns.invoke (test.clj:743)\n",
      "    clojure.core$map$fn__5866.invoke (core.clj:2755)\n",
      "    clojure.lang.LazySeq.sval (LazySeq.java:42)\n",
      "    clojure.lang.LazySeq.seq (LazySeq.java:51)\n",
      "    clojure.lang.Cons.next (Cons.java:39)\n",
      "    clojure.lang.RT.boundedLength (RT.java:1792)\n",
      "    clojure.lang.RestFn.applyTo (RestFn.java:130)\n",
      "    clojure.core$apply.invokeStatic (core.clj:667)\n",
      "    clojure.test$run_tests.invokeStatic (test.clj:768)\n",
      "    clojure.test$run_tests.doInvoke (test.clj:768)\n",
      "    clojure.lang.RestFn.invoke (RestFn.java:408)\n",
      "    user$eval4106.invokeStatic (NO_SOURCE_FILE:1)\n",
      "    user$eval4106.invoke (NO_SOURCE_FILE:1)\n",
      "    clojure.lang.Compiler.eval (Compiler.java:7177)\n",
      "    clojure.lang.Compiler.eval (Compiler.java:7132)\n",
      "    clojure.core$eval.invokeStatic (core.clj:3214)\n",
      "    clojure.core$eval.invoke (core.clj:3210)\n",
      "    clojure.main$repl$read_eval_print__9086$fn__9089.invoke (main.clj:437)\n",
      "    clojure.main$repl$read_eval_print__9086.invoke (main.clj:437)\n",
      "    clojure.main$repl$fn__9095.invoke (main.clj:458)\n",
      "    clojure.main$repl.invokeStatic (main.clj:458)\n",
      "    clojure.main$repl.doInvoke (main.clj:368)\n",
      "    clojure.lang.RestFn.invoke (RestFn.java:1523)\n",
      "    nrepl.middleware.interruptible_eval$evaluate.invokeStatic (interruptible_eval.clj:79)\n",
      "    nrepl.middleware.interruptible_eval$evaluate.invoke (interruptible_eval.clj:55)\n",
      "    nrepl.middleware.interruptible_eval$interruptible_eval$fn__25331$fn__25335.invoke (interruptible_eval.clj:142)\n",
      "    clojure.lang.AFn.run (AFn.java:22)\n",
      "    nrepl.middleware.session$session_exec$main_loop__25412$fn__25416.invoke (session.clj:171)\n",
      "    nrepl.middleware.session$session_exec$main_loop__25412.invoke (session.clj:170)\n",
      "    clojure.lang.AFn.run (AFn.java:22)\n",
      "    java.lang.Thread.run (Thread.java:748)\n",
      "\n",
      "Ran 1 tests containing 1 assertions.\n",
      "0 failures, 1 errors.\n"
     ]
    },
    {
     "data": {
      "text/plain": [
       "{:test 1, :pass 0, :fail 0, :error 1, :type :summary}"
      ]
     },
     "execution_count": 6,
     "metadata": {},
     "output_type": "execute_result"
    }
   ],
   "source": [
    "(run-tests *ns*)"
   ]
  },
  {
   "cell_type": "code",
   "execution_count": 8,
   "metadata": {},
   "outputs": [
    {
     "data": {
      "text/plain": [
       "#'user/roman-add"
      ]
     },
     "execution_count": 8,
     "metadata": {},
     "output_type": "execute_result"
    }
   ],
   "source": [
    "(defn roman-add [a b] (str a b))"
   ]
  },
  {
   "cell_type": "code",
   "execution_count": 9,
   "metadata": {},
   "outputs": [
    {
     "name": "stdout",
     "output_type": "stream",
     "text": [
      "\n",
      "Testing user\n",
      "\n",
      "Ran 1 tests containing 1 assertions.\n",
      "0 failures, 0 errors.\n"
     ]
    },
    {
     "data": {
      "text/plain": [
       "{:test 1, :pass 1, :fail 0, :error 0, :type :summary}"
      ]
     },
     "execution_count": 9,
     "metadata": {},
     "output_type": "execute_result"
    }
   ],
   "source": [
    "(run-tests *ns*)"
   ]
  },
  {
   "cell_type": "code",
   "execution_count": 10,
   "metadata": {},
   "outputs": [
    {
     "name": "stdout",
     "output_type": "stream",
     "text": [
      "\n",
      "Testing user\n",
      "\n",
      "Ran 1 tests containing 2 assertions.\n",
      "0 failures, 0 errors.\n"
     ]
    },
    {
     "data": {
      "text/plain": [
       "{:test 1, :pass 2, :fail 0, :error 0, :type :summary}"
      ]
     },
     "execution_count": 10,
     "metadata": {},
     "output_type": "execute_result"
    }
   ],
   "source": [
    "(deftest simple-addition\n",
    "         (is (= \"ii\" (roman-add \"i\" \"i\")))\n",
    "         (is (= \"vi\" (roman-add \"v\" \"i\"))))\n",
    "(run-tests *ns*)"
   ]
  },
  {
   "cell_type": "code",
   "execution_count": 11,
   "metadata": {},
   "outputs": [
    {
     "name": "stdout",
     "output_type": "stream",
     "text": [
      "\n",
      "Testing user\n",
      "\n",
      "FAIL in (sort-output) (NO_SOURCE_FILE:2)\n",
      "expected: (= \"xi\" (roman-add \"i\" \"x\"))\n",
      "  actual: (not (= \"xi\" \"ix\"))\n",
      "\n",
      "Ran 2 tests containing 3 assertions.\n",
      "1 failures, 0 errors.\n"
     ]
    },
    {
     "data": {
      "text/plain": [
       "{:test 2, :pass 2, :fail 1, :error 0, :type :summary}"
      ]
     },
     "execution_count": 11,
     "metadata": {},
     "output_type": "execute_result"
    }
   ],
   "source": [
    "(deftest sort-output\n",
    "         (is (= \"xi\" (roman-add \"i\" \"x\"))))\n",
    "(run-tests *ns*)"
   ]
  },
  {
   "cell_type": "code",
   "execution_count": 12,
   "metadata": {},
   "outputs": [
    {
     "data": {
      "text/plain": [
       "#'user/numerals"
      ]
     },
     "execution_count": 12,
     "metadata": {},
     "output_type": "execute_result"
    }
   ],
   "source": [
    "(def numerals {\\x 10 \\i 1})"
   ]
  },
  {
   "cell_type": "code",
   "execution_count": 13,
   "metadata": {},
   "outputs": [
    {
     "name": "stdout",
     "output_type": "stream",
     "text": [
      "-------------------------\n",
      "clojure.core/sort-by\n",
      "([keyfn coll] [keyfn comp coll])\n",
      "  Returns a sorted sequence of the items in coll, where the sort\n",
      "  order is determined by comparing (keyfn item).  If no comparator is\n",
      "  supplied, uses compare.  comparator must implement\n",
      "  java.util.Comparator.  Guaranteed to be stable: equal elements will\n",
      "  not be reordered.  If coll is a Java array, it will be modified.  To\n",
      "  avoid this, sort a copy of the array.\n"
     ]
    },
    {
     "data": {
      "text/plain": [
       "nil"
      ]
     },
     "execution_count": 13,
     "metadata": {},
     "output_type": "execute_result"
    }
   ],
   "source": [
    "(doc sort-by)"
   ]
  },
  {
   "cell_type": "code",
   "execution_count": 14,
   "metadata": {},
   "outputs": [
    {
     "data": {
      "text/plain": [
       "(\\i \\x)"
      ]
     },
     "execution_count": 14,
     "metadata": {},
     "output_type": "execute_result"
    }
   ],
   "source": [
    "(sort-by numerals \"xi\")"
   ]
  },
  {
   "cell_type": "code",
   "execution_count": 15,
   "metadata": {},
   "outputs": [
    {
     "data": {
      "text/plain": [
       "(\\x \\i)"
      ]
     },
     "execution_count": 15,
     "metadata": {},
     "output_type": "execute_result"
    }
   ],
   "source": [
    "(sort-by numerals > \"xi\")"
   ]
  },
  {
   "cell_type": "code",
   "execution_count": 16,
   "metadata": {},
   "outputs": [
    {
     "data": {
      "text/plain": [
       "\"xi\""
      ]
     },
     "execution_count": 16,
     "metadata": {},
     "output_type": "execute_result"
    }
   ],
   "source": [
    "(->> \"xi\" (sort-by numerals >) (apply str))"
   ]
  },
  {
   "cell_type": "code",
   "execution_count": 17,
   "metadata": {},
   "outputs": [
    {
     "data": {
      "text/plain": [
       "#'user/roman-sort"
      ]
     },
     "execution_count": 17,
     "metadata": {},
     "output_type": "execute_result"
    }
   ],
   "source": [
    "(defn roman-sort [s]\n",
    "    (->> s (sort-by numerals >) (apply str)))"
   ]
  },
  {
   "cell_type": "code",
   "execution_count": 18,
   "metadata": {},
   "outputs": [
    {
     "data": {
      "text/plain": [
       "\"xi\""
      ]
     },
     "execution_count": 18,
     "metadata": {},
     "output_type": "execute_result"
    }
   ],
   "source": [
    "(roman-sort \"ix\")"
   ]
  },
  {
   "cell_type": "code",
   "execution_count": 19,
   "metadata": {},
   "outputs": [
    {
     "data": {
      "text/plain": [
       "#'user/roman-add"
      ]
     },
     "execution_count": 19,
     "metadata": {},
     "output_type": "execute_result"
    }
   ],
   "source": [
    "(defn roman-add [a b] (roman-sort (str a b)))"
   ]
  },
  {
   "cell_type": "code",
   "execution_count": 20,
   "metadata": {},
   "outputs": [
    {
     "name": "stdout",
     "output_type": "stream",
     "text": [
      "\n",
      "Testing user\n",
      "\n",
      "ERROR in (simple-addition) (Numbers.java:1068)\n",
      "expected: (= \"vi\" (roman-add \"v\" \"i\"))\n",
      "  actual: java.lang.NullPointerException: null\n",
      " at clojure.lang.Numbers.ops (Numbers.java:1068)\n",
      "    clojure.lang.Numbers.gt (Numbers.java:259)\n",
      "    clojure.core$_GT_.invokeStatic (core.clj:1077)\n",
      "    clojure.core$_GT_.invoke (core.clj:1070)\n",
      "    clojure.lang.AFunction.compare (AFunction.java:51)\n",
      "    clojure.core$sort_by$fn__5978.invoke (core.clj:3131)\n",
      "    clojure.lang.AFunction.compare (AFunction.java:51)\n",
      "    java.util.TimSort.countRunAndMakeAscending (TimSort.java:355)\n",
      "    java.util.TimSort.sort (TimSort.java:220)\n",
      "    java.util.Arrays.sort (Arrays.java:1438)\n",
      "    clojure.core$sort.invokeStatic (core.clj:3115)\n",
      "    clojure.core$sort_by.invokeStatic (core.clj:3119)\n",
      "    clojure.core$sort_by.invoke (core.clj:3119)\n",
      "    user$roman_sort.invokeStatic (NO_SOURCE_FILE:2)\n",
      "    user$roman_sort.invoke (NO_SOURCE_FILE:1)\n",
      "    user$roman_add.invokeStatic (NO_SOURCE_FILE:1)\n",
      "    user$roman_add.invoke (NO_SOURCE_FILE:1)\n",
      "    user$fn__4116.invokeStatic (NO_SOURCE_FILE:3)\n",
      "    user/fn (NO_SOURCE_FILE:1)\n",
      "    clojure.test$test_var$fn__9737.invoke (test.clj:717)\n",
      "    clojure.test$test_var.invokeStatic (test.clj:717)\n",
      "    clojure.test$test_var.invoke (test.clj:708)\n",
      "    clojure.test$test_vars$fn__9763$fn__9768.invoke (test.clj:735)\n",
      "    clojure.test$default_fixture.invokeStatic (test.clj:687)\n",
      "    clojure.test$default_fixture.invoke (test.clj:683)\n",
      "    clojure.test$test_vars$fn__9763.invoke (test.clj:735)\n",
      "    clojure.test$default_fixture.invokeStatic (test.clj:687)\n",
      "    clojure.test$default_fixture.invoke (test.clj:683)\n",
      "    clojure.test$test_vars.invokeStatic (test.clj:731)\n",
      "    clojure.test$test_all_vars.invokeStatic (test.clj:737)\n",
      "    clojure.test$test_ns.invokeStatic (test.clj:758)\n",
      "    clojure.test$test_ns.invoke (test.clj:743)\n",
      "    clojure.core$map$fn__5866.invoke (core.clj:2755)\n",
      "    clojure.lang.LazySeq.sval (LazySeq.java:42)\n",
      "    clojure.lang.LazySeq.seq (LazySeq.java:51)\n",
      "    clojure.lang.Cons.next (Cons.java:39)\n",
      "    clojure.lang.RT.boundedLength (RT.java:1792)\n",
      "    clojure.lang.RestFn.applyTo (RestFn.java:130)\n",
      "    clojure.core$apply.invokeStatic (core.clj:667)\n",
      "    clojure.test$run_tests.invokeStatic (test.clj:768)\n",
      "    clojure.test$run_tests.doInvoke (test.clj:768)\n",
      "    clojure.lang.RestFn.invoke (RestFn.java:408)\n",
      "    user$eval4151.invokeStatic (NO_SOURCE_FILE:3)\n",
      "    user$eval4151.invoke (NO_SOURCE_FILE:3)\n",
      "    clojure.lang.Compiler.eval (Compiler.java:7177)\n",
      "    clojure.lang.Compiler.eval (Compiler.java:7132)\n",
      "    clojure.core$eval.invokeStatic (core.clj:3214)\n",
      "    clojure.core$eval.invoke (core.clj:3210)\n",
      "    clojure.main$repl$read_eval_print__9086$fn__9089.invoke (main.clj:437)\n",
      "    clojure.main$repl$read_eval_print__9086.invoke (main.clj:437)\n",
      "    clojure.main$repl$fn__9095.invoke (main.clj:458)\n",
      "    clojure.main$repl.invokeStatic (main.clj:458)\n",
      "    clojure.main$repl.doInvoke (main.clj:368)\n",
      "    clojure.lang.RestFn.invoke (RestFn.java:1523)\n",
      "    nrepl.middleware.interruptible_eval$evaluate.invokeStatic (interruptible_eval.clj:79)\n",
      "    nrepl.middleware.interruptible_eval$evaluate.invoke (interruptible_eval.clj:55)\n",
      "    nrepl.middleware.interruptible_eval$interruptible_eval$fn__25331$fn__25335.invoke (interruptible_eval.clj:142)\n",
      "    clojure.lang.AFn.run (AFn.java:22)\n",
      "    nrepl.middleware.session$session_exec$main_loop__25412$fn__25416.invoke (session.clj:171)\n",
      "    nrepl.middleware.session$session_exec$main_loop__25412.invoke (session.clj:170)\n",
      "    clojure.lang.AFn.run (AFn.java:22)\n",
      "    java.lang.Thread.run (Thread.java:748)\n",
      "\n",
      "Ran 2 tests containing 3 assertions.\n",
      "0 failures, 1 errors.\n"
     ]
    },
    {
     "data": {
      "text/plain": [
       "{:test 2, :pass 2, :fail 0, :error 1, :type :summary}"
      ]
     },
     "execution_count": 20,
     "metadata": {},
     "output_type": "execute_result"
    }
   ],
   "source": [
    "(deftest sort-output\n",
    "         (is (= \"xi\" (roman-add \"i\" \"x\"))))\n",
    "(run-tests *ns*)"
   ]
  },
  {
   "cell_type": "code",
   "execution_count": 21,
   "metadata": {},
   "outputs": [
    {
     "data": {
      "text/plain": [
       "#'user/roman-sort"
      ]
     },
     "execution_count": 21,
     "metadata": {},
     "output_type": "execute_result"
    }
   ],
   "source": [
    "(defn roman-sort [s]\n",
    "    (let [numerals {\\x 10 \\i 1 \\v 5}]\n",
    "        (->> s (sort-by numerals >) (apply str))))"
   ]
  },
  {
   "cell_type": "code",
   "execution_count": 22,
   "metadata": {},
   "outputs": [
    {
     "name": "stdout",
     "output_type": "stream",
     "text": [
      "\n",
      "Testing user\n",
      "\n",
      "Ran 2 tests containing 3 assertions.\n",
      "0 failures, 0 errors.\n"
     ]
    },
    {
     "data": {
      "text/plain": [
       "{:test 2, :pass 3, :fail 0, :error 0, :type :summary}"
      ]
     },
     "execution_count": 22,
     "metadata": {},
     "output_type": "execute_result"
    }
   ],
   "source": [
    "(run-tests *ns*)"
   ]
  },
  {
   "cell_type": "code",
   "execution_count": 23,
   "metadata": {},
   "outputs": [
    {
     "name": "stdout",
     "output_type": "stream",
     "text": [
      "\n",
      "Testing user\n",
      "\n",
      "FAIL in (subtractives) (NO_SOURCE_FILE:2)\n",
      "expected: (= \"vi\" (roman-add \"ii\" \"iv\"))\n",
      "  actual: (not (= \"vi\" \"viii\"))\n",
      "\n",
      "Ran 3 tests containing 4 assertions.\n",
      "1 failures, 0 errors.\n"
     ]
    },
    {
     "data": {
      "text/plain": [
       "{:test 3, :pass 3, :fail 1, :error 0, :type :summary}"
      ]
     },
     "execution_count": 23,
     "metadata": {},
     "output_type": "execute_result"
    }
   ],
   "source": [
    "(deftest subtractives\n",
    "         (is (= \"vi\" (roman-add \"ii\" \"iv\"))))\n",
    "(run-tests *ns*)"
   ]
  },
  {
   "cell_type": "code",
   "execution_count": 28,
   "metadata": {},
   "outputs": [
    {
     "data": {
      "text/plain": [
       "nil"
      ]
     },
     "execution_count": 28,
     "metadata": {},
     "output_type": "execute_result"
    }
   ],
   "source": [
    "(comment deftest reduce-result\n",
    "         (is (= \"mv\" (roman-add \"dii\" \"diii\"))))"
   ]
  },
  {
   "cell_type": "code",
   "execution_count": null,
   "metadata": {},
   "outputs": [],
   "source": []
  }
 ],
 "metadata": {
  "kernelspec": {
   "display_name": "Clojure (clojupyter-0.3.2)",
   "language": "clojure",
   "name": "clojupyter-0.3.2"
  },
  "language_info": {
   "file_extension": ".clj",
   "mimetype": "text/x-clojure",
   "name": "clojure",
   "version": "1.10.1"
  }
 },
 "nbformat": 4,
 "nbformat_minor": 4
}
