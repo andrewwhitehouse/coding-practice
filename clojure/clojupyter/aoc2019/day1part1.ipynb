{
 "cells": [
  {
   "cell_type": "markdown",
   "metadata": {},
   "source": [
    "# Advent of Code 2019"
   ]
  },
  {
   "cell_type": "markdown",
   "metadata": {},
   "source": [
    "## --- Day 1: The Tyranny of the Rocket Equation ---"
   ]
  },
  {
   "cell_type": "markdown",
   "metadata": {},
   "source": [
    "Santa has become stranded at the edge of the Solar System while delivering presents to other planets! To accurately calculate his position in space, safely align his warp drive, and return to Earth in time to save Christmas, he needs you to bring him measurements from fifty stars.\n",
    "\n",
    "Collect stars by solving puzzles. Two puzzles will be made available on each day in the Advent calendar; the second puzzle is unlocked when you complete the first. Each puzzle grants one star. Good luck!\n",
    "\n",
    "The Elves quickly load you into a spacecraft and prepare to launch.\n",
    "\n",
    "At the first Go / No Go poll, every Elf is Go until the Fuel Counter-Upper. They haven't determined the amount of fuel required yet.\n",
    "\n",
    "Fuel required to launch a given module is based on its mass. Specifically, to find the fuel required for a module, take its mass, divide by three, round down, and subtract 2.\n",
    "\n",
    "For example:\n",
    "\n",
    "- For a mass of 12, divide by 3 and round down to get 4, then subtract 2 to get 2.\n",
    "- For a mass of 14, dividing by 3 and rounding down still yields 4, so the fuel required is also 2.\n",
    "- For a mass of 1969, the fuel required is 654.\n",
    "- For a mass of 100756, the fuel required is 33583.\n",
    "  \n",
    "The Fuel Counter-Upper needs to know the total fuel requirement. To find it, individually calculate the fuel needed  for the mass of each module (your puzzle input), then add together all the fuel values.\n",
    "\n",
    "What is the sum of the fuel requirements for all of the modules on your spacecraft?"
   ]
  },
  {
   "cell_type": "code",
   "execution_count": 4,
   "metadata": {},
   "outputs": [
    {
     "data": {
      "text/plain": [
       "java.lang.Long"
      ]
     },
     "execution_count": 4,
     "metadata": {},
     "output_type": "execute_result"
    }
   ],
   "source": [
    ";; Many languages use _integers_ (or long integers) to represent whole numbers\n",
    "(type 1)"
   ]
  },
  {
   "cell_type": "code",
   "execution_count": 8,
   "metadata": {},
   "outputs": [
    {
     "data": {
      "text/plain": [
       "[-2147483648 2147483647]"
      ]
     },
     "execution_count": 8,
     "metadata": {},
     "output_type": "execute_result"
    }
   ],
   "source": [
    "[Integer/MIN_VALUE Integer/MAX_VALUE]"
   ]
  },
  {
   "cell_type": "code",
   "execution_count": 9,
   "metadata": {},
   "outputs": [
    {
     "data": {
      "text/plain": [
       "[-9223372036854775808 9223372036854775807]"
      ]
     },
     "execution_count": 9,
     "metadata": {},
     "output_type": "execute_result"
    }
   ],
   "source": [
    "[Long/MIN_VALUE Long/MAX_VALUE]"
   ]
  },
  {
   "cell_type": "code",
   "execution_count": 12,
   "metadata": {},
   "outputs": [
    {
     "data": {
      "text/plain": [
       "14/3"
      ]
     },
     "execution_count": 12,
     "metadata": {},
     "output_type": "execute_result"
    }
   ],
   "source": [
    ";; In many languages, diving an integer by another integer results in the fractional part being thrown away.\n",
    ";; Not in Clojure ... instead we get a ratio.\n",
    "(/ 14 3)"
   ]
  },
  {
   "cell_type": "code",
   "execution_count": 15,
   "metadata": {},
   "outputs": [
    {
     "data": {
      "text/plain": [
       "4"
      ]
     },
     "execution_count": 15,
     "metadata": {},
     "output_type": "execute_result"
    }
   ],
   "source": [
    ";; Coercing back to an integer gives us the roundign down behaviour we are looking for\n",
    "(int 14/3)"
   ]
  },
  {
   "cell_type": "code",
   "execution_count": 16,
   "metadata": {},
   "outputs": [
    {
     "data": {
      "text/plain": [
       "#'user/fuel-required"
      ]
     },
     "execution_count": 16,
     "metadata": {},
     "output_type": "execute_result"
    }
   ],
   "source": [
    ";; Let's finish the function\n",
    "(defn fuel-required [mass]\n",
    "    (- (int (/ mass 3)) 2))"
   ]
  },
  {
   "cell_type": "code",
   "execution_count": 17,
   "metadata": {},
   "outputs": [
    {
     "data": {
      "text/plain": [
       "true"
      ]
     },
     "execution_count": 17,
     "metadata": {},
     "output_type": "execute_result"
    }
   ],
   "source": [
    "(= (fuel-required 1969) 654)"
   ]
  },
  {
   "cell_type": "code",
   "execution_count": 19,
   "metadata": {},
   "outputs": [
    {
     "data": {
      "text/plain": [
       "true"
      ]
     },
     "execution_count": 19,
     "metadata": {},
     "output_type": "execute_result"
    }
   ],
   "source": [
    "(= (fuel-required 100756) 33583)"
   ]
  },
  {
   "cell_type": "code",
   "execution_count": 24,
   "metadata": {},
   "outputs": [
    {
     "data": {
      "text/plain": [
       "#'user/masses"
      ]
     },
     "execution_count": 24,
     "metadata": {},
     "output_type": "execute_result"
    }
   ],
   "source": [
    ";; Copied from the input file (not all input files are the same)\n",
    "(def masses [147077\n",
    "148686\n",
    "71851\n",
    "98056\n",
    "65024\n",
    "87254\n",
    "146003\n",
    "128542\n",
    "136657\n",
    "91885\n",
    "91904\n",
    "78806\n",
    "58210\n",
    "67520\n",
    "118393\n",
    "68344\n",
    "69593\n",
    "135370\n",
    "111892\n",
    "84153\n",
    "105683\n",
    "76166\n",
    "112780\n",
    "145179\n",
    "83811\n",
    "61481\n",
    "118277\n",
    "59732\n",
    "72222\n",
    "64606\n",
    "55645\n",
    "82168\n",
    "97590\n",
    "122479\n",
    "120365\n",
    "103057\n",
    "76225\n",
    "148099\n",
    "100610\n",
    "75592\n",
    "148678\n",
    "132756\n",
    "55335\n",
    "77094\n",
    "73992\n",
    "95097\n",
    "92382\n",
    "78885\n",
    "93657\n",
    "121709\n",
    "114261\n",
    "90565\n",
    "110043\n",
    "145497\n",
    "92066\n",
    "109833\n",
    "76107\n",
    "143941\n",
    "67084\n",
    "139407\n",
    "56730\n",
    "131457\n",
    "110026\n",
    "85632\n",
    "74239\n",
    "116964\n",
    "129806\n",
    "75030\n",
    "76317\n",
    "99523\n",
    "78069\n",
    "75685\n",
    "81279\n",
    "58287\n",
    "148135\n",
    "89313\n",
    "139141\n",
    "136066\n",
    "94046\n",
    "50430\n",
    "55242\n",
    "123494\n",
    "68410\n",
    "83716\n",
    "122608\n",
    "79343\n",
    "88826\n",
    "95968\n",
    "98603\n",
    "104895\n",
    "128814\n",
    "120473\n",
    "97504\n",
    "60990\n",
    "98132\n",
    "58895\n",
    "92987\n",
    "136301\n",
    "131747\n",
    "137498])"
   ]
  },
  {
   "cell_type": "code",
   "execution_count": 26,
   "metadata": {},
   "outputs": [
    {
     "data": {
      "text/plain": [
       "(49023 49560 23948 32683 21672 29082 48665 42845 45550 30626 30632 26266 19401 22504 39462 22779 23195 45121 37295 28049 35225 25386 37591 48391 27935 20491 39423 19908 24072 21533 18546 27387 32528 40824 40119 34350 25406 49364 33534 25195 49557 44250 18443 25696 24662 31697 30792 26293 31217 40567 38085 30186 36679 48497 30686 36609 25367 47978 22359 46467 18908 43817 36673 28542 24744 38986 43266 25008 25437 33172 26021 25226 27091 19427 49376 29769 46378 45353 31346 16808 18412 41162 22801 27903 40867 26445 29606 31987 32865 34963 42936 40155 32499 20328 32708 19629 30993 45431 43913 45830)"
      ]
     },
     "execution_count": 26,
     "metadata": {},
     "output_type": "execute_result"
    }
   ],
   "source": [
    ";; call fuel-required on each of the masses\n",
    "(map fuel-required masses)"
   ]
  },
  {
   "cell_type": "code",
   "execution_count": 30,
   "metadata": {},
   "outputs": [
    {
     "data": {
      "text/plain": [
       "10"
      ]
     },
     "execution_count": 30,
     "metadata": {},
     "output_type": "execute_result"
    }
   ],
   "source": [
    ";; Add items in a collection\n",
    "(apply + '(0 1 2 3 4))"
   ]
  },
  {
   "cell_type": "code",
   "execution_count": 28,
   "metadata": {},
   "outputs": [
    {
     "data": {
      "text/plain": [
       "3278434"
      ]
     },
     "execution_count": 28,
     "metadata": {},
     "output_type": "execute_result"
    }
   ],
   "source": [
    ";; add up the masses\n",
    "(apply + (map fuel-required masses))"
   ]
  },
  {
   "cell_type": "code",
   "execution_count": null,
   "metadata": {},
   "outputs": [],
   "source": []
  }
 ],
 "metadata": {
  "kernelspec": {
   "display_name": "Clojure (clojupyter-0.3.2)",
   "language": "clojure",
   "name": "clojupyter-0.3.2"
  },
  "language_info": {
   "file_extension": ".clj",
   "mimetype": "text/x-clojure",
   "name": "clojure",
   "version": "1.10.1"
  }
 },
 "nbformat": 4,
 "nbformat_minor": 4
}
